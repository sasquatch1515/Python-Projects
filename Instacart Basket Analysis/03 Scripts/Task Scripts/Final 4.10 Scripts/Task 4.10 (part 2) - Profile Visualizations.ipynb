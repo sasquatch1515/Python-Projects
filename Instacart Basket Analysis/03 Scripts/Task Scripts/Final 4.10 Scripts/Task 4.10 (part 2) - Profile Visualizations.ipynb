{
 "cells": [
  {
   "cell_type": "code",
   "execution_count": 2,
   "id": "1fb9063f-3585-4979-bcdd-d8849a6b9275",
   "metadata": {},
   "outputs": [],
   "source": [
    "# File name: Exercise 4.10 - Profile Visualizations\n",
    "# Author: Sam Abrams\n",
    "# Created: 12/27/24\n",
    "# Description: This notebook contains visualizations relating to the customer profiles created in Part 1 of task 4.10 - the notebook was split into two to help with memory issues."
   ]
  },
  {
   "cell_type": "markdown",
   "id": "4a50d358-09c3-4fb7-992c-2be3552d631f",
   "metadata": {
    "id": "4a50d358-09c3-4fb7-992c-2be3552d631f"
   },
   "source": [
    "## Notebook Setup"
   ]
  },
  {
   "cell_type": "code",
   "execution_count": 3,
   "id": "48e85bf8-0cff-49fd-81ac-d3bc1c62fe2b",
   "metadata": {
    "id": "48e85bf8-0cff-49fd-81ac-d3bc1c62fe2b"
   },
   "outputs": [],
   "source": [
    "# import libraries\n",
    "import pandas as pd\n",
    "import numpy as np\n",
    "import os\n",
    "import seaborn as sns\n",
    "import matplotlib.pyplot as plt\n",
    "import scipy"
   ]
  },
  {
   "cell_type": "code",
   "execution_count": 30,
   "id": "2a71e723-0d65-4b90-aaaf-d91dae206287",
   "metadata": {
    "id": "2a71e723-0d65-4b90-aaaf-d91dae206287"
   },
   "outputs": [
    {
     "ename": "EOFError",
     "evalue": "Ran out of input",
     "output_type": "error",
     "traceback": [
      "\u001b[0;31m---------------------------------------------------------------------------\u001b[0m",
      "\u001b[0;31mEOFError\u001b[0m                                  Traceback (most recent call last)",
      "Cell \u001b[0;32mIn[30], line 1\u001b[0m\n\u001b[0;32m----> 1\u001b[0m df_profiles \u001b[38;5;241m=\u001b[39m pd\u001b[38;5;241m.\u001b[39mread_pickle(\u001b[38;5;124m'\u001b[39m\u001b[38;5;124m/Users/samabrams/Data Analysis Projects/Instacart Basket Analysis/02 Data/Prepared Data/ALL_order_prod_cust_dataframe.pkl\u001b[39m\u001b[38;5;124m'\u001b[39m)\n",
      "File \u001b[0;32m/opt/anaconda3/lib/python3.12/site-packages/pandas/io/pickle.py:202\u001b[0m, in \u001b[0;36mread_pickle\u001b[0;34m(filepath_or_buffer, compression, storage_options)\u001b[0m\n\u001b[1;32m    199\u001b[0m     \u001b[38;5;28;01mwith\u001b[39;00m warnings\u001b[38;5;241m.\u001b[39mcatch_warnings(record\u001b[38;5;241m=\u001b[39m\u001b[38;5;28;01mTrue\u001b[39;00m):\n\u001b[1;32m    200\u001b[0m         \u001b[38;5;66;03m# We want to silence any warnings about, e.g. moved modules.\u001b[39;00m\n\u001b[1;32m    201\u001b[0m         warnings\u001b[38;5;241m.\u001b[39msimplefilter(\u001b[38;5;124m\"\u001b[39m\u001b[38;5;124mignore\u001b[39m\u001b[38;5;124m\"\u001b[39m, \u001b[38;5;167;01mWarning\u001b[39;00m)\n\u001b[0;32m--> 202\u001b[0m         \u001b[38;5;28;01mreturn\u001b[39;00m pickle\u001b[38;5;241m.\u001b[39mload(handles\u001b[38;5;241m.\u001b[39mhandle)\n\u001b[1;32m    203\u001b[0m \u001b[38;5;28;01mexcept\u001b[39;00m excs_to_catch:\n\u001b[1;32m    204\u001b[0m     \u001b[38;5;66;03m# e.g.\u001b[39;00m\n\u001b[1;32m    205\u001b[0m     \u001b[38;5;66;03m#  \"No module named 'pandas.core.sparse.series'\"\u001b[39;00m\n\u001b[1;32m    206\u001b[0m     \u001b[38;5;66;03m#  \"Can't get attribute '__nat_unpickle' on <module 'pandas._libs.tslib\"\u001b[39;00m\n\u001b[1;32m    207\u001b[0m     \u001b[38;5;28;01mreturn\u001b[39;00m pc\u001b[38;5;241m.\u001b[39mload(handles\u001b[38;5;241m.\u001b[39mhandle, encoding\u001b[38;5;241m=\u001b[39m\u001b[38;5;28;01mNone\u001b[39;00m)\n",
      "\u001b[0;31mEOFError\u001b[0m: Ran out of input"
     ]
    }
   ],
   "source": [
    "df_profiles = pd.read_pickle('/Users/samabrams/Data Analysis Projects/Instacart Basket Analysis/02 Data/Prepared Data/ALL_order_prod_cust_dataframe.pkl')"
   ]
  },
  {
   "cell_type": "code",
   "execution_count": null,
   "id": "036d5109-c704-44ae-a1a9-f402446bbe16",
   "metadata": {
    "id": "036d5109-c704-44ae-a1a9-f402446bbe16",
    "outputId": "026b07cc-0e7c-4e8f-9db1-601ea1ec4c16"
   },
   "outputs": [],
   "source": [
    "df_profiles.head()"
   ]
  },
  {
   "cell_type": "code",
   "execution_count": null,
   "id": "38e4cdf2-73c1-4fac-b95e-d2f5cda6836f",
   "metadata": {
    "id": "38e4cdf2-73c1-4fac-b95e-d2f5cda6836f",
    "outputId": "1b2d8d4a-e79f-4df2-d4b6-68131bd7ebe4"
   },
   "outputs": [],
   "source": [
    "df_profiles.info()"
   ]
  },
  {
   "cell_type": "markdown",
   "id": "d8c9d7f8-157c-4995-8827-5d475a4d3437",
   "metadata": {
    "id": "d8c9d7f8-157c-4995-8827-5d475a4d3437"
   },
   "source": [
    "## Visualizations of Customer Profile Distribution"
   ]
  },
  {
   "cell_type": "markdown",
   "id": "57094146-e7e2-48e1-ab8a-4bb3a3d945ff",
   "metadata": {
    "id": "57094146-e7e2-48e1-ab8a-4bb3a3d945ff"
   },
   "source": [
    "### Income Profiling"
   ]
  },
  {
   "cell_type": "code",
   "execution_count": null,
   "id": "936912e3-9c36-4810-8ab3-7e1e793d235d",
   "metadata": {
    "id": "936912e3-9c36-4810-8ab3-7e1e793d235d",
    "outputId": "bdaad2eb-cc35-4ce0-bb2a-465b5339958e"
   },
   "outputs": [],
   "source": [
    "# bar chart of income profile\n",
    "df_profiles['income_profile'].value_counts().plot.bar()"
   ]
  },
  {
   "cell_type": "markdown",
   "id": "eb5dfad2-bfff-459d-9128-71d7bced46d5",
   "metadata": {
    "id": "eb5dfad2-bfff-459d-9128-71d7bced46d5"
   },
   "source": [
    "Key Takeaway: High-income individuals aren't order products at the same rate as middle- and low-income customers, although this could be due to the number of high-income individuals. At any rate, the primary customers are middle-and-low income individuals."
   ]
  },
  {
   "cell_type": "code",
   "execution_count": null,
   "id": "b4d8f5c7-77c0-4f98-8622-342bb168f420",
   "metadata": {
    "id": "b4d8f5c7-77c0-4f98-8622-342bb168f420",
    "outputId": "e31bcf1b-e202-456e-e4f0-b8f370600438"
   },
   "outputs": [],
   "source": [
    "## Spending habits of each group\n",
    "profile_spending = df_profiles.groupby('income_profile')['prices'].sum()\n",
    "spending_habits_by_income = profile_spending.plot(kind='bar', color='skyblue', edgecolor='black')\n",
    "plt.xlabel('Income Profile')\n",
    "plt.ylabel('Total Spending')\n",
    "plt.title('Total Spending by Customer Income Profile')"
   ]
  },
  {
   "cell_type": "markdown",
   "id": "b1f9599b-c80d-43a1-b7e0-ce63bd0b1735",
   "metadata": {
    "id": "b1f9599b-c80d-43a1-b7e0-ce63bd0b1735"
   },
   "source": [
    "The graph above shows that middle-income customers are spending the most on Instacart orders. High- and low-income customers, interestingly enough, are spending about the same."
   ]
  },
  {
   "cell_type": "code",
   "execution_count": null,
   "id": "ddde5101-2073-41ca-afe7-d36a77cb8bed",
   "metadata": {
    "id": "ddde5101-2073-41ca-afe7-d36a77cb8bed"
   },
   "outputs": [],
   "source": [
    "spending_habits_by_income.figure.savefig('C:/Users/Sam/Documents/Data Analytics Projects/04 Analysis/Visualizations/spending_habits_by_income_profile.png')"
   ]
  },
  {
   "cell_type": "markdown",
   "id": "d2eb89e2-a82d-49dc-b96c-76c8e6cc65a9",
   "metadata": {
    "id": "d2eb89e2-a82d-49dc-b96c-76c8e6cc65a9"
   },
   "source": [
    "### Dependency Profiles"
   ]
  },
  {
   "cell_type": "code",
   "execution_count": null,
   "id": "a071ab7d-9063-4517-b179-5c38ed8a8a64",
   "metadata": {
    "id": "a071ab7d-9063-4517-b179-5c38ed8a8a64",
    "outputId": "790dfe03-7419-49f6-d834-15c6a9e335c2"
   },
   "outputs": [],
   "source": [
    "df_profiles['dependent_profile'].value_counts().plot.bar()"
   ]
  },
  {
   "cell_type": "markdown",
   "id": "3936c318-f003-4e25-971d-a7eae6d184f1",
   "metadata": {
    "id": "3936c318-f003-4e25-971d-a7eae6d184f1"
   },
   "source": [
    "Parents (or anyone with dependents) appear much more likely to order from Instacart than those who don't have dependents."
   ]
  },
  {
   "cell_type": "code",
   "execution_count": null,
   "id": "4a1def49-28d8-4433-b179-74537157eb7c",
   "metadata": {
    "id": "4a1def49-28d8-4433-b179-74537157eb7c",
    "outputId": "7e94172b-916f-446c-f590-430ff7462d64"
   },
   "outputs": [],
   "source": [
    "## Spending habits of each group\n",
    "dep_profile_spending = df_profiles.groupby('dependent_profile')['prices'].sum().sort_index()\n",
    "spending_habits_by_dependents = dep_profile_spending.plot(kind='bar', color='blue', edgecolor='black')\n",
    "plt.xlabel('Dependent Profile')\n",
    "plt.ylabel('Total Spending')\n",
    "plt.title('Total Spending by Customer Dependent Profile')"
   ]
  },
  {
   "cell_type": "markdown",
   "id": "cf47c2d3-9683-4d2b-8ba4-1ea668fee147",
   "metadata": {
    "id": "cf47c2d3-9683-4d2b-8ba4-1ea668fee147"
   },
   "source": [
    "Parents also spend the most money ordering from Instacart."
   ]
  },
  {
   "cell_type": "code",
   "execution_count": null,
   "id": "52645711-044f-4837-97cb-f8a33c25f897",
   "metadata": {
    "id": "52645711-044f-4837-97cb-f8a33c25f897"
   },
   "outputs": [],
   "source": [
    "spending_habits_by_dependents.figure.savefig('C:/Users/Sam/Documents/Data Analytics Projects/04 Analysis/Visualizations/spending_habits_by_dependent_profile.png')"
   ]
  },
  {
   "cell_type": "markdown",
   "id": "84a00193-c34f-4281-b485-8ae6f83c5277",
   "metadata": {
    "id": "84a00193-c34f-4281-b485-8ae6f83c5277"
   },
   "source": [
    "## Creating Profile Dataframes"
   ]
  },
  {
   "cell_type": "markdown",
   "id": "9034a8a7-1e10-49b9-9a3d-96a63d67bc7d",
   "metadata": {
    "id": "9034a8a7-1e10-49b9-9a3d-96a63d67bc7d"
   },
   "source": [
    "I'm going to make two dictionaries, one containing income-based profiles and the other containing dependent-based profiles."
   ]
  },
  {
   "cell_type": "markdown",
   "id": "a892e2db-cc12-420c-8bcc-ff8e760b35e8",
   "metadata": {
    "id": "a892e2db-cc12-420c-8bcc-ff8e760b35e8"
   },
   "source": [
    "### Income Profiles"
   ]
  },
  {
   "cell_type": "code",
   "execution_count": null,
   "id": "1a7d2018-871d-4493-95c8-bdb29de71502",
   "metadata": {
    "id": "1a7d2018-871d-4493-95c8-bdb29de71502"
   },
   "outputs": [],
   "source": [
    "#Create dictionary for INCOME profile Dataframes\n",
    "income_profile_dfs = {}\n",
    "\n",
    "# Add new dataframes to dictionary\n",
    "\n",
    "## young adult income profiles\n",
    "income_profile_dfs['df_high_income_YA'] = df_profiles[df_profiles['income_profile'] == 'High-Income Young Adult']\n",
    "income_profile_dfs['df_middle_income_YA'] = df_profiles[df_profiles['income_profile'] == 'Middle-Income Young Adult']\n",
    "income_profile_dfs['df_low_income_YA'] = df_profiles[df_profiles['income_profile'] == 'Low-Income Young Adult']\n",
    "\n",
    "## middle-aged adult income profiles\n",
    "income_profile_dfs['df_high_income_MA'] = df_profiles[df_profiles['income_profile'] == 'High-Income Middle-Aged Adult']\n",
    "income_profile_dfs['df_middle_income_MA'] = df_profiles[df_profiles['income_profile'] == 'Middle-Income Middle-Aged Adult']\n",
    "income_profile_dfs['df_low_income_MA'] = df_profiles[df_profiles['income_profile'] == 'Low-Income Middle-Aged Adult']\n",
    "\n",
    "## older adult income profiles\n",
    "income_profile_dfs['df_high_income_OA'] = df_profiles[df_profiles['income_profile'] == 'High-Income Older Adult']\n",
    "income_profile_dfs['df_middle_income_OA'] = df_profiles[df_profiles['income_profile'] == 'Middle-Income Older Adult']\n",
    "income_profile_dfs['df_low_income_OA'] = df_profiles[df_profiles['income_profile'] == 'Low-Income Older Adult']"
   ]
  },
  {
   "cell_type": "code",
   "execution_count": null,
   "id": "881767e8-4d74-4c0a-affd-44fb031759b2",
   "metadata": {
    "id": "881767e8-4d74-4c0a-affd-44fb031759b2"
   },
   "outputs": [],
   "source": [
    "# Assign INCOME profiles to variables\n",
    "df_HI_YA = income_profile_dfs['df_high_income_YA']\n",
    "df_MI_YA = income_profile_dfs['df_middle_income_YA']\n",
    "df_LI_YA = income_profile_dfs['df_low_income_YA']\n",
    "df_HI_MA = income_profile_dfs['df_high_income_MA']\n",
    "df_MI_MA = income_profile_dfs['df_middle_income_MA']\n",
    "df_LI_MA = income_profile_dfs['df_low_income_MA']\n",
    "df_HI_OA = income_profile_dfs['df_high_income_OA']\n",
    "df_MI_OA = income_profile_dfs['df_middle_income_OA']\n",
    "df_LI_OA = income_profile_dfs['df_low_income_OA']"
   ]
  },
  {
   "cell_type": "code",
   "execution_count": null,
   "id": "cde2320f-b83c-4f48-af16-48c762828cd1",
   "metadata": {
    "id": "cde2320f-b83c-4f48-af16-48c762828cd1",
    "outputId": "85841fb8-2d1f-4a08-e48f-24d9eaef888a"
   },
   "outputs": [],
   "source": [
    "df_HI_YA.shape"
   ]
  },
  {
   "cell_type": "code",
   "execution_count": null,
   "id": "89f863ab-8dc0-4295-83db-2715fe309573",
   "metadata": {
    "id": "89f863ab-8dc0-4295-83db-2715fe309573",
    "outputId": "1a5399a0-b829-4971-b56f-fd8dec196d04"
   },
   "outputs": [],
   "source": [
    "df_MI_YA.shape"
   ]
  },
  {
   "cell_type": "code",
   "execution_count": null,
   "id": "a9b377f1-1759-490c-a58b-b09381881066",
   "metadata": {
    "id": "a9b377f1-1759-490c-a58b-b09381881066",
    "outputId": "bffce288-d38c-42c9-8ed5-a4ff86d50457"
   },
   "outputs": [],
   "source": [
    "df_LI_YA.shape"
   ]
  },
  {
   "cell_type": "markdown",
   "id": "f489929c-df20-4655-a202-3900455511f3",
   "metadata": {
    "id": "f489929c-df20-4655-a202-3900455511f3"
   },
   "source": [
    "### Dependent Profiles"
   ]
  },
  {
   "cell_type": "code",
   "execution_count": null,
   "id": "17c7fd50-0460-4611-a2a3-b402741d8eed",
   "metadata": {
    "id": "17c7fd50-0460-4611-a2a3-b402741d8eed",
    "outputId": "e08ee5ec-1575-4b97-dd48-369a31a5f95e"
   },
   "outputs": [],
   "source": [
    "df_profiles['dependent_profile'].value_counts()"
   ]
  },
  {
   "cell_type": "code",
   "execution_count": null,
   "id": "eb6cc9c9-bc1f-40d2-ad0e-e48abe019240",
   "metadata": {
    "id": "eb6cc9c9-bc1f-40d2-ad0e-e48abe019240"
   },
   "outputs": [],
   "source": [
    "# Create Dictionary for Dependent profiles\n",
    "dependent_profile_dfs = {}\n",
    "\n",
    "# Add dataframes to dictionary\n",
    "dependent_profile_dfs['df_parent_YA'] = df_profiles[df_profiles['dependent_profile'] == 'Young Adult, Parent']\n",
    "dependent_profile_dfs['df_parent_MA'] = df_profiles[df_profiles['dependent_profile'] == 'Middle-Aged Adult, Parent']\n",
    "dependent_profile_dfs['df_parent_OA'] = df_profiles[df_profiles['dependent_profile'] == 'Older Adult, Parent']\n",
    "dependent_profile_dfs['df_no_deps_YA'] = df_profiles[df_profiles['dependent_profile'] == 'Young Adult, No Dependents']\n",
    "dependent_profile_dfs['df_no_deps_MA'] = df_profiles[df_profiles['dependent_profile'] == 'Young Adult, No Dependents']\n",
    "dependent_profile_dfs['df_no_deps_OA'] = df_profiles[df_profiles['dependent_profile'] == 'Young Adult, No Dependents']"
   ]
  },
  {
   "cell_type": "code",
   "execution_count": null,
   "id": "14295958-a61b-4a84-972b-b09f2e9926da",
   "metadata": {
    "id": "14295958-a61b-4a84-972b-b09f2e9926da"
   },
   "outputs": [],
   "source": [
    "# Assign dictionary dataframes to variables\n",
    "df_parent_YA = dependent_profile_dfs['df_parent_YA']\n",
    "df_parent_MA = dependent_profile_dfs['df_parent_MA']\n",
    "df_parent_OA = dependent_profile_dfs['df_parent_OA']\n",
    "df_no_deps_YA = dependent_profile_dfs['df_no_deps_YA']\n",
    "df_no_deps_MA = dependent_profile_dfs['df_no_deps_MA']\n",
    "df_no_deps_OA = dependent_profile_dfs['df_no_deps_OA']"
   ]
  },
  {
   "cell_type": "code",
   "execution_count": null,
   "id": "38a5fe66-556a-4400-9c48-77ef1af9d093",
   "metadata": {
    "id": "38a5fe66-556a-4400-9c48-77ef1af9d093",
    "outputId": "ddc70d91-fe9a-41fd-f76b-a99812710d13"
   },
   "outputs": [],
   "source": [
    "print(dependent_profile_dfs.keys())"
   ]
  },
  {
   "cell_type": "code",
   "execution_count": null,
   "id": "8987f244-3c87-4cbc-9ac8-bc4b34c2e817",
   "metadata": {
    "id": "8987f244-3c87-4cbc-9ac8-bc4b34c2e817",
    "outputId": "3b9f8495-e98f-4750-9435-d648cb3445f8"
   },
   "outputs": [],
   "source": [
    "print(income_profile_dfs.keys())"
   ]
  },
  {
   "cell_type": "code",
   "execution_count": null,
   "id": "9c7a3a2f-2823-476b-bc5b-f1157fca7a3a",
   "metadata": {
    "id": "9c7a3a2f-2823-476b-bc5b-f1157fca7a3a",
    "outputId": "359a8256-6119-4499-a4a5-57640a3a04c6"
   },
   "outputs": [],
   "source": [
    "df_HI_YA.shape"
   ]
  },
  {
   "cell_type": "markdown",
   "id": "36672d63-c516-45eb-b8f3-83168469c10c",
   "metadata": {
    "id": "36672d63-c516-45eb-b8f3-83168469c10c"
   },
   "source": [
    "## Usage Frequency and Expenditure Aggregate Statistics"
   ]
  },
  {
   "cell_type": "code",
   "execution_count": null,
   "id": "47474cbe-19da-4a6e-a6ce-c101e9fe6165",
   "metadata": {
    "id": "47474cbe-19da-4a6e-a6ce-c101e9fe6165",
    "outputId": "d5d19876-6022-4fba-d4ce-30f13debe966"
   },
   "outputs": [],
   "source": [
    "df_profiles.info()"
   ]
  },
  {
   "cell_type": "code",
   "execution_count": null,
   "id": "26591ca0-e568-4478-be17-e68763ed118a",
   "metadata": {
    "id": "26591ca0-e568-4478-be17-e68763ed118a"
   },
   "outputs": [],
   "source": [
    "# Defining functions to calculate profile metrics\n",
    "\n",
    "## Descriptive Statistics for spending using 'prices\" column\n",
    "def get_descriptive_stats(df):\n",
    "    return df['prices'].describe()\n",
    "\n",
    "## Total spending for each profile\n",
    "def get_total_spending(df):\n",
    "    return df['prices'].sum()\n",
    "\n",
    "## Finds the most ordered department for the profile\n",
    "def get_most_ordered_department(df):\n",
    "    return df['department_id'].mode()\n",
    "\n",
    "## Average days between orders for the profile\n",
    "def get_order_frequency(df):\n",
    "    return df['days_since_last_order'].mean()"
   ]
  },
  {
   "cell_type": "code",
   "execution_count": null,
   "id": "b5119f5e-c5c1-4993-bb17-69394a563100",
   "metadata": {
    "id": "b5119f5e-c5c1-4993-bb17-69394a563100"
   },
   "outputs": [],
   "source": [
    "# Main function to analyze profile data\n",
    "def analyze_profile_data(profile_dfs):\n",
    "    results = []\n",
    "    for profile_name, df in profile_dfs.items():\n",
    "        desc_stats = get_descriptive_stats(df)\n",
    "        total_spending = get_total_spending(df)\n",
    "        most_ordered_department = get_most_ordered_department(df)\n",
    "        avg_days_between_orders = get_order_frequency(df)\n",
    "\n",
    "# Create a dictionary to store the results for the current profile\n",
    "        profile_results = {\n",
    "            'customer_profile': profile_name,\n",
    "            'max_price': desc_stats['max'],\n",
    "            'average_price': desc_stats['mean'],\n",
    "            'min_price': desc_stats['min'],\n",
    "            '25th_percentile_price': desc_stats['25%'],\n",
    "            'median_price': desc_stats['50%'],\n",
    "            '75th_percentile_price': desc_stats['75%'],\n",
    "            'total_spending': total_spending,\n",
    "            'most_ordered_department': most_ordered_department,\n",
    "            'avg_days_between_orders': avg_days_between_orders}\n",
    "\n",
    "# Append the dictionary to the results list\n",
    "        results.append(profile_results)\n",
    "\n",
    "    # Create a DataFrame from the results\n",
    "    df_profile_stats = pd.DataFrame(results)\n",
    "\n",
    "    return df_profile_stats"
   ]
  },
  {
   "cell_type": "code",
   "execution_count": null,
   "id": "45c5a766-7da0-4dee-abb4-e92e13dfc835",
   "metadata": {
    "id": "45c5a766-7da0-4dee-abb4-e92e13dfc835"
   },
   "outputs": [],
   "source": [
    "## Apply analysis to dictionaries\n",
    "income_profile_stats = analyze_profile_data(income_profile_dfs)\n",
    "dependent_profile_stats = analyze_profile_data(dependent_profile_dfs)"
   ]
  },
  {
   "cell_type": "code",
   "execution_count": null,
   "id": "08f4f902-6439-469b-b8f1-f6fd5c9f90a1",
   "metadata": {
    "id": "08f4f902-6439-469b-b8f1-f6fd5c9f90a1",
    "outputId": "da90c0c1-4efd-4f63-cbcd-1fba33bec4a2"
   },
   "outputs": [],
   "source": [
    "print(\"Income Profile Stats:\")\n",
    "print(income_profile_stats.to_markdown(index=False, numalign=\"center\", stralign=\"center\"))\n",
    "\n",
    "print(\"\\nDependent Profile Stats:\")\n",
    "print(dependent_profile_stats.to_markdown(index=False, numalign=\"center\", stralign=\"center\"))"
   ]
  },
  {
   "cell_type": "code",
   "execution_count": null,
   "id": "22bdcbb9-666d-4a11-b13c-b68de821d948",
   "metadata": {
    "id": "22bdcbb9-666d-4a11-b13c-b68de821d948",
    "outputId": "014a8005-162f-43e1-845c-0b701c622256"
   },
   "outputs": [],
   "source": [
    "income_profile_stats.head(20)"
   ]
  },
  {
   "cell_type": "code",
   "execution_count": null,
   "id": "7923ad3f-e93a-4e49-b02c-4e3fd56a1bd5",
   "metadata": {
    "id": "7923ad3f-e93a-4e49-b02c-4e3fd56a1bd5",
    "outputId": "a5aca5b2-5c77-4b2c-f4f2-8bb120187b56"
   },
   "outputs": [],
   "source": [
    "dependent_profile_stats.head(10)"
   ]
  },
  {
   "cell_type": "code",
   "execution_count": null,
   "id": "e52fe858-a690-4a7f-bfbe-4fb9ac345a52",
   "metadata": {
    "id": "e52fe858-a690-4a7f-bfbe-4fb9ac345a52",
    "outputId": "05f7e5ee-6fd9-42ca-c679-b0cd15645836"
   },
   "outputs": [],
   "source": [
    "df_parent_MA.head()"
   ]
  },
  {
   "cell_type": "code",
   "execution_count": null,
   "id": "420b2817-af7f-46f5-a482-28c9470f0170",
   "metadata": {
    "id": "420b2817-af7f-46f5-a482-28c9470f0170",
    "outputId": "c8d4715c-39c2-4b35-a472-c1f0ad507322"
   },
   "outputs": [],
   "source": [
    "df_parent_MA.shape"
   ]
  },
  {
   "cell_type": "code",
   "execution_count": null,
   "id": "9a4c89c2-edaf-4942-86d4-2af6b6e97146",
   "metadata": {
    "id": "9a4c89c2-edaf-4942-86d4-2af6b6e97146",
    "outputId": "07c319d1-f2c2-4af9-c3fb-5c483d603b61"
   },
   "outputs": [],
   "source": [
    "df_parent_OA.shape"
   ]
  },
  {
   "cell_type": "markdown",
   "id": "ae441858-0556-4147-a817-b7260758620e",
   "metadata": {
    "id": "ae441858-0556-4147-a817-b7260758620e"
   },
   "source": [
    "### Charts for Total Spending by Profile"
   ]
  },
  {
   "cell_type": "code",
   "execution_count": null,
   "id": "5b4e5f03-9b0c-4628-b1bc-67b0ee272822",
   "metadata": {
    "id": "5b4e5f03-9b0c-4628-b1bc-67b0ee272822",
    "outputId": "b1219978-5820-4281-9e14-6cad5398eb79"
   },
   "outputs": [],
   "source": [
    "## Creating the bar chart for total spending\n",
    "sns.barplot(x='customer_profile', y='total_spending', data = income_profile_stats)"
   ]
  },
  {
   "cell_type": "code",
   "execution_count": null,
   "id": "ba653c16-3629-4bc3-aa85-d3b818177468",
   "metadata": {
    "id": "ba653c16-3629-4bc3-aa85-d3b818177468",
    "outputId": "c8c98070-22aa-4de9-99d6-9a0aaa885939"
   },
   "outputs": [],
   "source": [
    "## Clean up the visuals\n",
    "income_profile_spending_chart = sns.barplot(x='customer_profile', y='total_spending', data = income_profile_stats)\n",
    "\n",
    "plt.xlabel('Income Profile')\n",
    "plt.ylabel('Total Spending')\n",
    "plt.title('Total Spending by Income Profile')\n",
    "plt.xticks(rotation=45, ha='right')\n",
    "plt.legend\n",
    "\n",
    "plt.show()"
   ]
  },
  {
   "cell_type": "code",
   "execution_count": null,
   "id": "d864e3ed-d51f-4482-a3e0-1bc87d989b59",
   "metadata": {
    "id": "d864e3ed-d51f-4482-a3e0-1bc87d989b59",
    "outputId": "ba5f86ee-c816-4bbf-cd16-9e55d1afa713"
   },
   "outputs": [],
   "source": [
    "## Now to do the same for the dependent profiles\n",
    "dependent_profile_spending_chart = sns.barplot(x='customer_profile', y='total_spending', data = dependent_profile_stats)\n",
    "\n",
    "plt.xlabel('Dependent Profile')\n",
    "plt.ylabel('Total Spending')\n",
    "plt.title('Total Spending by Dependent Profile')\n",
    "plt.xticks(rotation=45, ha='right')\n",
    "plt.legend\n",
    "\n",
    "plt.show()"
   ]
  },
  {
   "cell_type": "code",
   "execution_count": null,
   "id": "7ea252db-ad87-4acb-bef2-e89570c345f5",
   "metadata": {
    "id": "7ea252db-ad87-4acb-bef2-e89570c345f5"
   },
   "outputs": [],
   "source": [
    "## saving the charts above\n",
    "dependent_profile_spending_chart.figure.savefig(\"C:/Users/Sam/Documents/Data Analytics Projects/04 Analysis/Visualizations/Total spending by dependent profile.png\")"
   ]
  },
  {
   "cell_type": "code",
   "execution_count": null,
   "id": "45e6a467-3dc7-458e-a24d-ae4c299a0209",
   "metadata": {
    "id": "45e6a467-3dc7-458e-a24d-ae4c299a0209"
   },
   "outputs": [],
   "source": [
    "income_profile_spending_chart.figure.savefig(\"C:/Users/Sam/Documents/Data Analytics Projects/04 Analysis/Visualizations/Total spending by income profile.png\")"
   ]
  },
  {
   "cell_type": "markdown",
   "id": "59d247d5-bfe3-4c7e-908c-bd6bd6164790",
   "metadata": {
    "id": "59d247d5-bfe3-4c7e-908c-bd6bd6164790"
   },
   "source": [
    "### Chart for Usage Frequency by Profile"
   ]
  },
  {
   "cell_type": "code",
   "execution_count": null,
   "id": "56bc6002-928d-4ddf-96cb-4b9bf7af4eee",
   "metadata": {
    "id": "56bc6002-928d-4ddf-96cb-4b9bf7af4eee",
    "outputId": "3cddebb5-c6ac-4216-8327-4d6ce924ac4e"
   },
   "outputs": [],
   "source": [
    "income_profile_frequency_chart = sns.barplot(x='customer_profile', y='avg_days_between_orders', data = income_profile_stats)\n",
    "\n",
    "plt.xlabel('Income Profile')\n",
    "plt.ylabel('Average Days Between Orders')\n",
    "plt.title('Average Order Frequency for each Income Profile')\n",
    "plt.xticks(rotation=45, ha='right')\n",
    "plt.legend\n",
    "\n",
    "plt.show()"
   ]
  },
  {
   "cell_type": "code",
   "execution_count": null,
   "id": "e0efc708-1251-4909-949b-c18874cb4d2a",
   "metadata": {
    "id": "e0efc708-1251-4909-949b-c18874cb4d2a",
    "outputId": "af886c6d-f312-41a1-8492-85d0fc11207e"
   },
   "outputs": [],
   "source": [
    "dependent_profile_frequency_chart = sns.barplot(x='customer_profile', y='avg_days_between_orders', data = dependent_profile_stats)\n",
    "\n",
    "plt.xlabel('Dependent Profile')\n",
    "plt.ylabel('Average Days Between Orders')\n",
    "plt.title('Average Order Frequency for each Income Profile')\n",
    "plt.xticks(rotation=45, ha='right')\n",
    "plt.legend\n",
    "\n",
    "plt.show()"
   ]
  },
  {
   "cell_type": "markdown",
   "id": "2ccce746-9ea4-4206-b828-f9088a2f0720",
   "metadata": {
    "id": "2ccce746-9ea4-4206-b828-f9088a2f0720"
   },
   "source": [
    "There is no significant difference in order frequency across the six dependent profiles, but high-income customers do tend to order more frequently than middle- or low-income customers."
   ]
  },
  {
   "cell_type": "code",
   "execution_count": null,
   "id": "6594610a-05dd-4ae4-a8ee-82f89c6d9e16",
   "metadata": {
    "id": "6594610a-05dd-4ae4-a8ee-82f89c6d9e16"
   },
   "outputs": [],
   "source": [
    "## Saving Chart\n",
    "dependent_profile_frequency_chart.figure.savefig(\"C:/Users/Sam/Documents/Data Analytics Projects/04 Analysis/Visualizations/AVG order frequency by dependent profile.png\")\n",
    "income_profile_frequency_chart.figure.savefig(\"C:/Users/Sam/Documents/Data Analytics Projects/04 Analysis/Visualizations/AVG order frequency by income profile.png\")"
   ]
  },
  {
   "cell_type": "markdown",
   "id": "af115e1e-7a7f-4dee-b891-46a208d3bbd7",
   "metadata": {
    "id": "af115e1e-7a7f-4dee-b891-46a208d3bbd7"
   },
   "source": [
    "## Grouping Customer Profiles by Region"
   ]
  },
  {
   "cell_type": "code",
   "execution_count": null,
   "id": "081413a4-a674-4977-9fda-328137c7d5f8",
   "metadata": {
    "id": "081413a4-a674-4977-9fda-328137c7d5f8",
    "outputId": "867fe61f-5177-4f82-ec9e-29491721fd03"
   },
   "outputs": [],
   "source": [
    "# Create a cross-tab to count profiles in each region\n",
    "income_profile_region = pd.crosstab(df_profiles['income_profile'], df_profiles['Region'])\n",
    "\n",
    "# Get percentages within each profile\n",
    "income_profile_region_pct = income_profile_region.div(income_profile_region.sum(axis=1), axis=0) * 100\n",
    "\n"
   ]
  },
  {
   "cell_type": "code",
   "execution_count": null,
   "id": "6bd0d358-acc2-422d-aff8-1c7fef5bbed3",
   "metadata": {
    "id": "6bd0d358-acc2-422d-aff8-1c7fef5bbed3"
   },
   "outputs": [],
   "source": [
    "#Same drill but for dependent profiles\n",
    "# Create a cross-tab to count profiles in each region\n",
    "dependent_profile_region = pd.crosstab(df_profiles['dependent_profile'], df_profiles['Region'])\n",
    "\n",
    "# Get percentages within each profile\n",
    "dependent_profile_region_pct = dependent_profile_region.div(dependent_profile_region.sum(axis=1), axis=0) * 100\n",
    "\n"
   ]
  },
  {
   "cell_type": "code",
   "execution_count": null,
   "id": "4c3e8cca-6eb0-4798-b1b9-244fdb1068aa",
   "metadata": {
    "id": "4c3e8cca-6eb0-4798-b1b9-244fdb1068aa",
    "outputId": "6ceb1947-d2aa-4b1f-c601-5e2ffc41fe99"
   },
   "outputs": [],
   "source": [
    "# Create a stacked bar chart\n",
    "region_breakdown_by_income = income_profile_region_pct.plot(kind='bar', stacked=True, figsize=(10, 6))\n",
    "plt.title('Regional Distribution of Income-Based Customer Profiles')\n",
    "plt.ylabel('Percentage')\n",
    "plt.xlabel('Customer Income Profile')\n",
    "plt.xticks(rotation=45, ha='right')\n",
    "plt.legend(title='Region', loc='upper right')\n",
    "plt.show()"
   ]
  },
  {
   "cell_type": "markdown",
   "id": "7c788393-de80-4cde-a335-ae91e734a22b",
   "metadata": {
    "id": "7c788393-de80-4cde-a335-ae91e734a22b"
   },
   "source": [
    "It appears that most profiles have the highest percentage of customers in the South region. One interesting trend that appears too is that high-income older adults are noticeably more present in the Midwest."
   ]
  },
  {
   "cell_type": "code",
   "execution_count": null,
   "id": "4257de48-f4c4-46f7-a6ab-42461944248c",
   "metadata": {
    "id": "4257de48-f4c4-46f7-a6ab-42461944248c",
    "outputId": "c3c70741-40f9-446c-e768-a442f6c82918"
   },
   "outputs": [],
   "source": [
    "# Create another stacked bar chart\n",
    "region_breakdown_by_dependent = dependent_profile_region_pct.plot(kind='bar', stacked=True, figsize=(10, 6))\n",
    "plt.title('Regional Distribution of Dependent-Based Customer Profiles')\n",
    "plt.ylabel('Percentage')\n",
    "plt.xlabel('Customer Dependent Profile')\n",
    "plt.xticks(rotation=45, ha='right')\n",
    "plt.legend(title='Region', loc='upper right')\n",
    "plt.show()"
   ]
  },
  {
   "cell_type": "code",
   "execution_count": null,
   "id": "93c0e6b0-0185-4377-a125-a800cc41a11a",
   "metadata": {
    "id": "93c0e6b0-0185-4377-a125-a800cc41a11a"
   },
   "outputs": [],
   "source": [
    "## Saving Figures\n",
    "region_breakdown_by_dependent.figure.savefig(\"C:/Users/Sam/Documents/Data Analytics Projects/04 Analysis/Visualizations/region breakdown by dependent profile.png\")\n",
    "region_breakdown_by_income.figure.savefig(\"C:/Users/Sam/Documents/Data Analytics Projects/04 Analysis/Visualizations/region breakdown by income profile.png\")"
   ]
  },
  {
   "cell_type": "markdown",
   "id": "09a1492c-bf01-46f3-acb7-5b73709072e4",
   "metadata": {
    "id": "09a1492c-bf01-46f3-acb7-5b73709072e4"
   },
   "source": [
    "## Analyzing Most Ordered Department by Profile"
   ]
  },
  {
   "cell_type": "code",
   "execution_count": null,
   "id": "345241fa-56aa-40c8-a10f-f69b1be7c11d",
   "metadata": {
    "id": "345241fa-56aa-40c8-a10f-f69b1be7c11d"
   },
   "outputs": [],
   "source": [
    "# Create a cross-tabulation to count departments within each profile\n",
    "income_profile_department = pd.crosstab(df_profiles['income_profile'], df_profiles['department_id'])\n",
    "dependent_profile_department = pd.crosstab(df_profiles['dependent_profile'], df_profiles['department_id'])\n",
    "\n",
    "# Get the most frequently ordered department for each profile\n",
    "income_most_ordered_dept = income_profile_department.idxmax(axis=1)\n",
    "dependent_most_ordered_dept = dependent_profile_department.idxmax(axis=1)\n"
   ]
  },
  {
   "cell_type": "code",
   "execution_count": null,
   "id": "98fe010f-fcd7-4eff-82f3-2d3356de7c8c",
   "metadata": {
    "id": "98fe010f-fcd7-4eff-82f3-2d3356de7c8c",
    "outputId": "758e0b23-5051-418f-b047-e9dc67b15751"
   },
   "outputs": [],
   "source": [
    "# Create a bar chart\n",
    "income_top_departments = income_most_ordered_dept.plot(kind='bar', figsize=(10, 6))\n",
    "plt.title('Most Ordered Department by Income Profile')\n",
    "plt.ylabel('Department ID')\n",
    "plt.xlabel('Income Profile')\n",
    "plt.xticks(rotation=45, ha='right')\n",
    "for p in income_top_departments.patches:\n",
    "    income_top_departments.annotate(str(p.get_height()), (p.get_x() + p.get_width() / 2., p.get_height()), ha = 'center',\n",
    "                                    va = 'center', xytext=(0, 10), textcoords='offset points')\n",
    "\n",
    "plt.show()"
   ]
  },
  {
   "cell_type": "code",
   "execution_count": null,
   "id": "1edbb8d2-3cac-4865-8cfd-45544c995074",
   "metadata": {
    "id": "1edbb8d2-3cac-4865-8cfd-45544c995074",
    "outputId": "91e238a9-327b-469e-af4e-49c355398a9e"
   },
   "outputs": [],
   "source": [
    "# Create a bar chart for dependent profiles\n",
    "dependent_top_departments = dependent_most_ordered_dept.plot(kind='bar', figsize=(10, 6))\n",
    "plt.title('Most Ordered Department by Dependent Profile')\n",
    "plt.ylabel('Department ID')\n",
    "plt.xlabel('Dependent Profile')\n",
    "plt.xticks(rotation=45, ha='right')\n",
    "for p in dependent_top_departments.patches:\n",
    "    dependent_top_departments.annotate(str(p.get_height()), (p.get_x() + p.get_width() / 2., p.get_height()), ha = 'center',\n",
    "                                    va = 'center', xytext=(0, 10), textcoords='offset points')\n",
    "\n",
    "plt.show()"
   ]
  },
  {
   "cell_type": "markdown",
   "id": "fa823f3a-cb09-459a-8e59-e648ccbf2d65",
   "metadata": {
    "id": "fa823f3a-cb09-459a-8e59-e648ccbf2d65"
   },
   "source": [
    "For both profiles, the most commonly ordered department is 4, which according to the project brief, is produce."
   ]
  },
  {
   "cell_type": "code",
   "execution_count": null,
   "id": "baa1465a-5f1a-4699-bfbf-d829616463ee",
   "metadata": {
    "id": "baa1465a-5f1a-4699-bfbf-d829616463ee"
   },
   "outputs": [],
   "source": [
    "# Export Graphs\n",
    "dependent_top_departments.figure.savefig(\"C:/Users/Sam/Documents/Data Analytics Projects/04 Analysis/Visualizations/top department by dependent profile.png\")\n",
    "income_top_departments.figure.savefig(\"C:/Users/Sam/Documents/Data Analytics Projects/04 Analysis/Visualizations/top department by income profile.png\")"
   ]
  },
  {
   "cell_type": "code",
   "execution_count": null,
   "id": "07322cc9-a7c3-48bf-ae83-059f6287a496",
   "metadata": {
    "id": "07322cc9-a7c3-48bf-ae83-059f6287a496"
   },
   "outputs": [],
   "source": []
  }
 ],
 "metadata": {
  "colab": {
   "provenance": []
  },
  "kernelspec": {
   "display_name": "Python 3 (ipykernel)",
   "language": "python",
   "name": "python3"
  },
  "language_info": {
   "codemirror_mode": {
    "name": "ipython",
    "version": 3
   },
   "file_extension": ".py",
   "mimetype": "text/x-python",
   "name": "python",
   "nbconvert_exporter": "python",
   "pygments_lexer": "ipython3",
   "version": "3.12.4"
  }
 },
 "nbformat": 4,
 "nbformat_minor": 5
}
