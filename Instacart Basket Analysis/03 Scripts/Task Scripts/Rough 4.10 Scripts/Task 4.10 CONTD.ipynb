{
 "cells": [
  {
   "cell_type": "code",
   "execution_count": 1,
   "id": "9a4e2725-2e19-47d8-ab3a-dfe1ef06c883",
   "metadata": {},
   "outputs": [],
   "source": [
    "# import libraries\n",
    "import pandas as pd\n",
    "import numpy as np\n",
    "import os\n",
    "import seaborn as sns\n",
    "import matplotlib.pyplot as plt"
   ]
  },
  {
   "cell_type": "code",
   "execution_count": 2,
   "id": "e853bd9c-f9af-4dea-a116-8881ac5f0296",
   "metadata": {},
   "outputs": [],
   "source": [
    "# Import dataframe with customer names scrubbed, unnecessary columns removed, and regions in place of states\n",
    "df_all_scrub = pd.read_pickle('/Users/samabrams/Data Analysis Projects/Instacart Basket Analysis/02 Data/Prepared Data/OPC_ALL_scrub.pkl')"
   ]
  },
  {
   "cell_type": "code",
   "execution_count": 3,
   "id": "1dc73363-77c8-4098-889f-a4426bdcb138",
   "metadata": {},
   "outputs": [
    {
     "data": {
      "text/plain": [
       "(32404859, 23)"
      ]
     },
     "execution_count": 3,
     "metadata": {},
     "output_type": "execute_result"
    }
   ],
   "source": [
    "df_all_scrub.shape"
   ]
  },
  {
   "cell_type": "code",
   "execution_count": 4,
   "id": "e87e2e26-a6a8-42ab-af56-f8f58d6ee39a",
   "metadata": {},
   "outputs": [
    {
     "name": "stdout",
     "output_type": "stream",
     "text": [
      "<class 'pandas.core.frame.DataFrame'>\n",
      "RangeIndex: 32404859 entries, 0 to 32404858\n",
      "Data columns (total 23 columns):\n",
      " #   Column                 Dtype  \n",
      "---  ------                 -----  \n",
      " 0   product_id             int64  \n",
      " 1   department_id          int64  \n",
      " 2   prices                 float64\n",
      " 3   user_id                int64  \n",
      " 4   order_number           int64  \n",
      " 5   order_day_of_week      int64  \n",
      " 6   order_hour_of_day      int64  \n",
      " 7   days_since_last_order  float64\n",
      " 8   reordered              int64  \n",
      " 9   price_range            object \n",
      " 10  busiest days           object \n",
      " 11  busiest day            object \n",
      " 12  busiest_period_of_day  object \n",
      " 13  loyalty_flag           object \n",
      " 14  spending_flag          object \n",
      " 15  freq_flag              object \n",
      " 16  Gender                 object \n",
      " 17  state                  object \n",
      " 18  Age                    int64  \n",
      " 19  num_dependents         int64  \n",
      " 20  fam_status             object \n",
      " 21  income                 int64  \n",
      " 22  Region                 object \n",
      "dtypes: float64(2), int64(10), object(11)\n",
      "memory usage: 5.6+ GB\n"
     ]
    }
   ],
   "source": [
    "df_all_scrub.info()"
   ]
  },
  {
   "cell_type": "code",
   "execution_count": 5,
   "id": "c2923c0e-3f94-460f-9f10-58bb486d3e5f",
   "metadata": {},
   "outputs": [],
   "source": [
    "# Changing data type for several columns to save memory\n",
    "columns_to_convert = ['Region', 'fam_status', 'Gender', 'freq_flag', 'spending_flag', 'loyalty_flag', 'busiest day', 'price_range']\n",
    "\n",
    "for column in columns_to_convert:\n",
    "  df_all_scrub[column] = df_all_scrub[column].astype('category')"
   ]
  },
  {
   "cell_type": "code",
   "execution_count": 6,
   "id": "49dcf741-fe15-4534-823d-9ba9882cbd04",
   "metadata": {},
   "outputs": [
    {
     "name": "stdout",
     "output_type": "stream",
     "text": [
      "<class 'pandas.core.frame.DataFrame'>\n",
      "RangeIndex: 32404859 entries, 0 to 32404858\n",
      "Data columns (total 23 columns):\n",
      " #   Column                 Dtype   \n",
      "---  ------                 -----   \n",
      " 0   product_id             int64   \n",
      " 1   department_id          int64   \n",
      " 2   prices                 float64 \n",
      " 3   user_id                int64   \n",
      " 4   order_number           int64   \n",
      " 5   order_day_of_week      int64   \n",
      " 6   order_hour_of_day      int64   \n",
      " 7   days_since_last_order  float64 \n",
      " 8   reordered              int64   \n",
      " 9   price_range            category\n",
      " 10  busiest days           object  \n",
      " 11  busiest day            category\n",
      " 12  busiest_period_of_day  object  \n",
      " 13  loyalty_flag           category\n",
      " 14  spending_flag          category\n",
      " 15  freq_flag              category\n",
      " 16  Gender                 category\n",
      " 17  state                  object  \n",
      " 18  Age                    int64   \n",
      " 19  num_dependents         int64   \n",
      " 20  fam_status             category\n",
      " 21  income                 int64   \n",
      " 22  Region                 category\n",
      "dtypes: category(8), float64(2), int64(10), object(3)\n",
      "memory usage: 3.9+ GB\n"
     ]
    }
   ],
   "source": [
    "df_all_scrub.info()"
   ]
  },
  {
   "cell_type": "markdown",
   "id": "ec4a2d68-9116-4d95-9e23-f0ff3071bf0b",
   "metadata": {},
   "source": [
    "## Exclusion Flag for Low-Activity Customers"
   ]
  },
  {
   "cell_type": "code",
   "execution_count": 8,
   "id": "ed532457-074f-4e2d-a0ad-76ac5e1d4d11",
   "metadata": {},
   "outputs": [],
   "source": [
    "## calculate number of orders for each customer\n",
    "orders_per_customer = df_all_scrub.groupby('user_id')['order_number'].count()"
   ]
  },
  {
   "cell_type": "code",
   "execution_count": 9,
   "id": "c127de82-8625-44bd-8b91-4a6826052fcc",
   "metadata": {},
   "outputs": [],
   "source": [
    "## Filter to keep only customers with 5 or more orders\n",
    "frequent_customers = orders_per_customer[orders_per_customer >= 6].index"
   ]
  },
  {
   "cell_type": "code",
   "execution_count": 10,
   "id": "67d58e79-888c-45ad-b0b0-eb27a93e3029",
   "metadata": {},
   "outputs": [],
   "source": [
    "## New dataframe excluding customers with 5 or fewer orders"
   ]
  },
  {
   "cell_type": "code",
   "execution_count": 11,
   "id": "6289bb13-974b-4491-b85e-e095add188fa",
   "metadata": {},
   "outputs": [],
   "source": [
    "df_all_top = df_all_scrub[df_all_scrub['user_id'].isin(frequent_customers)]"
   ]
  },
  {
   "cell_type": "code",
   "execution_count": 12,
   "id": "62c748ca-b23d-4a3d-9cc9-b3ca7d7823f3",
   "metadata": {},
   "outputs": [
    {
     "data": {
      "text/plain": [
       "(32398590, 23)"
      ]
     },
     "execution_count": 12,
     "metadata": {},
     "output_type": "execute_result"
    }
   ],
   "source": [
    "df_all_top.shape"
   ]
  },
  {
   "cell_type": "code",
   "execution_count": 13,
   "id": "4590a9f9-2ddc-4158-b2c4-9985a0dc2ea6",
   "metadata": {},
   "outputs": [
    {
     "data": {
      "text/plain": [
       "(32404859, 23)"
      ]
     },
     "execution_count": 13,
     "metadata": {},
     "output_type": "execute_result"
    }
   ],
   "source": [
    "df_all_scrub.shape"
   ]
  },
  {
   "cell_type": "markdown",
   "id": "f296bf05-8ada-4f2f-8cce-384a957970e8",
   "metadata": {},
   "source": [
    "6,269 records were removed as a result of the low-activity exclusion flag."
   ]
  },
  {
   "cell_type": "markdown",
   "id": "94660ed3-30e5-49a2-af6a-7c8a48dab732",
   "metadata": {},
   "source": [
    "## Customer Profiles"
   ]
  },
  {
   "cell_type": "code",
   "execution_count": 16,
   "id": "28322d1b-b7b2-4b5b-a8ae-7192229eb2ba",
   "metadata": {},
   "outputs": [],
   "source": [
    "df_all_top = df_all_top.rename(columns={'Age': 'age',})"
   ]
  },
  {
   "cell_type": "code",
   "execution_count": 17,
   "id": "404654b9-7f86-492c-bfe7-e0653ed8950d",
   "metadata": {},
   "outputs": [],
   "source": [
    "## Creates two different profiles, one based on age and income, the other based on age and dependents\n",
    "\n",
    "def get_age_group(age):\n",
    "   \n",
    "    if age <= 30:\n",
    "        return 'Young Adult'\n",
    "    elif age <= 60:\n",
    "        return 'Middle-Aged Adult'\n",
    "    else:\n",
    "        return 'Older Adult'\n",
    "\n",
    "def get_income_group(income):\n",
    "    if income <= 67000:\n",
    "        return 'Low-Income'\n",
    "    elif income <= 170000:\n",
    "        return 'Middle-Income'\n",
    "    else:\n",
    "        return 'High-Income'\n",
    "\n",
    "def get_dependent_status(row):\n",
    "    if row['num_dependents'] > 0:\n",
    "        if row['fam_status'] in ('single', 'divorced/widowed'):\n",
    "            return 'Single Parent'\n",
    "        else:\n",
    "            return 'Parent'\n",
    "    else:\n",
    "        return 'No Dependents'"
   ]
  },
  {
   "cell_type": "code",
   "execution_count": 18,
   "id": "c99e45ef-3c4f-48f2-869d-b12be9d09b9f",
   "metadata": {},
   "outputs": [],
   "source": [
    "# Apply the functions to create separate columns\n",
    "df_all_top['age_group'] = df_all_top['age'].apply(get_age_group)"
   ]
  },
  {
   "cell_type": "code",
   "execution_count": 19,
   "id": "cf5a4ad9-469e-419b-b19c-39ab37e4f96f",
   "metadata": {},
   "outputs": [],
   "source": [
    "df_all_top['income_group'] = df_all_top['income'].apply(get_income_group)"
   ]
  },
  {
   "cell_type": "code",
   "execution_count": 20,
   "id": "024963ab-7dd6-4974-9fa8-1794d57c58f2",
   "metadata": {},
   "outputs": [
    {
     "data": {
      "text/plain": [
       "num_dependents\n",
       "3    8133496\n",
       "0    8095929\n",
       "2    8089574\n",
       "1    8079591\n",
       "Name: count, dtype: int64"
      ]
     },
     "execution_count": 20,
     "metadata": {},
     "output_type": "execute_result"
    }
   ],
   "source": [
    "df_all_top['num_dependents'].value_counts(dropna=False)"
   ]
  },
  {
   "cell_type": "code",
   "execution_count": 21,
   "id": "c33f066e-07a0-447a-8674-ade3507686a7",
   "metadata": {},
   "outputs": [
    {
     "data": {
      "text/plain": [
       "fam_status\n",
       "married                             22752378\n",
       "single                               5324657\n",
       "divorced/widowed                     2771272\n",
       "living with parents and siblings     1550283\n",
       "Name: count, dtype: int64"
      ]
     },
     "execution_count": 21,
     "metadata": {},
     "output_type": "execute_result"
    }
   ],
   "source": [
    "df_all_top['fam_status'].value_counts(dropna=False)"
   ]
  },
  {
   "cell_type": "code",
   "execution_count": 41,
   "id": "f5f52636-fda9-426c-9ba2-4f3bdf9c2469",
   "metadata": {},
   "outputs": [
    {
     "data": {
      "text/html": [
       "<div>\n",
       "<style scoped>\n",
       "    .dataframe tbody tr th:only-of-type {\n",
       "        vertical-align: middle;\n",
       "    }\n",
       "\n",
       "    .dataframe tbody tr th {\n",
       "        vertical-align: top;\n",
       "    }\n",
       "\n",
       "    .dataframe thead th {\n",
       "        text-align: right;\n",
       "    }\n",
       "</style>\n",
       "<table border=\"1\" class=\"dataframe\">\n",
       "  <thead>\n",
       "    <tr style=\"text-align: right;\">\n",
       "      <th></th>\n",
       "      <th>product_id</th>\n",
       "      <th>department_id</th>\n",
       "      <th>prices</th>\n",
       "      <th>user_id</th>\n",
       "      <th>order_number</th>\n",
       "      <th>order_day_of_week</th>\n",
       "      <th>order_hour_of_day</th>\n",
       "      <th>days_since_last_order</th>\n",
       "      <th>reordered</th>\n",
       "      <th>price_range</th>\n",
       "      <th>...</th>\n",
       "      <th>freq_flag</th>\n",
       "      <th>Gender</th>\n",
       "      <th>state</th>\n",
       "      <th>age</th>\n",
       "      <th>num_dependents</th>\n",
       "      <th>fam_status</th>\n",
       "      <th>income</th>\n",
       "      <th>Region</th>\n",
       "      <th>age_group</th>\n",
       "      <th>income_group</th>\n",
       "    </tr>\n",
       "  </thead>\n",
       "  <tbody>\n",
       "    <tr>\n",
       "      <th>0</th>\n",
       "      <td>1</td>\n",
       "      <td>19</td>\n",
       "      <td>5.8</td>\n",
       "      <td>138</td>\n",
       "      <td>28</td>\n",
       "      <td>6</td>\n",
       "      <td>11</td>\n",
       "      <td>3.0</td>\n",
       "      <td>0</td>\n",
       "      <td>mid-range product</td>\n",
       "      <td>...</td>\n",
       "      <td>frequent customer</td>\n",
       "      <td>Male</td>\n",
       "      <td>Minnesota</td>\n",
       "      <td>81</td>\n",
       "      <td>1</td>\n",
       "      <td>married</td>\n",
       "      <td>49620</td>\n",
       "      <td>Midwest</td>\n",
       "      <td>Older Adult</td>\n",
       "      <td>Low-Income</td>\n",
       "    </tr>\n",
       "    <tr>\n",
       "      <th>1</th>\n",
       "      <td>1</td>\n",
       "      <td>19</td>\n",
       "      <td>5.8</td>\n",
       "      <td>138</td>\n",
       "      <td>30</td>\n",
       "      <td>6</td>\n",
       "      <td>17</td>\n",
       "      <td>20.0</td>\n",
       "      <td>1</td>\n",
       "      <td>mid-range product</td>\n",
       "      <td>...</td>\n",
       "      <td>frequent customer</td>\n",
       "      <td>Male</td>\n",
       "      <td>Minnesota</td>\n",
       "      <td>81</td>\n",
       "      <td>1</td>\n",
       "      <td>married</td>\n",
       "      <td>49620</td>\n",
       "      <td>Midwest</td>\n",
       "      <td>Older Adult</td>\n",
       "      <td>Low-Income</td>\n",
       "    </tr>\n",
       "    <tr>\n",
       "      <th>2</th>\n",
       "      <td>1</td>\n",
       "      <td>19</td>\n",
       "      <td>5.8</td>\n",
       "      <td>709</td>\n",
       "      <td>2</td>\n",
       "      <td>0</td>\n",
       "      <td>21</td>\n",
       "      <td>6.0</td>\n",
       "      <td>0</td>\n",
       "      <td>mid-range product</td>\n",
       "      <td>...</td>\n",
       "      <td>frequent customer</td>\n",
       "      <td>Female</td>\n",
       "      <td>Vermont</td>\n",
       "      <td>66</td>\n",
       "      <td>2</td>\n",
       "      <td>married</td>\n",
       "      <td>158302</td>\n",
       "      <td>Northeast</td>\n",
       "      <td>Older Adult</td>\n",
       "      <td>Middle-Income</td>\n",
       "    </tr>\n",
       "    <tr>\n",
       "      <th>3</th>\n",
       "      <td>1</td>\n",
       "      <td>19</td>\n",
       "      <td>5.8</td>\n",
       "      <td>764</td>\n",
       "      <td>1</td>\n",
       "      <td>3</td>\n",
       "      <td>13</td>\n",
       "      <td>NaN</td>\n",
       "      <td>0</td>\n",
       "      <td>mid-range product</td>\n",
       "      <td>...</td>\n",
       "      <td>frequent customer</td>\n",
       "      <td>Female</td>\n",
       "      <td>Wisconsin</td>\n",
       "      <td>40</td>\n",
       "      <td>3</td>\n",
       "      <td>married</td>\n",
       "      <td>31308</td>\n",
       "      <td>Midwest</td>\n",
       "      <td>Middle-Aged Adult</td>\n",
       "      <td>Low-Income</td>\n",
       "    </tr>\n",
       "    <tr>\n",
       "      <th>4</th>\n",
       "      <td>1</td>\n",
       "      <td>19</td>\n",
       "      <td>5.8</td>\n",
       "      <td>764</td>\n",
       "      <td>3</td>\n",
       "      <td>4</td>\n",
       "      <td>17</td>\n",
       "      <td>9.0</td>\n",
       "      <td>1</td>\n",
       "      <td>mid-range product</td>\n",
       "      <td>...</td>\n",
       "      <td>frequent customer</td>\n",
       "      <td>Female</td>\n",
       "      <td>Wisconsin</td>\n",
       "      <td>40</td>\n",
       "      <td>3</td>\n",
       "      <td>married</td>\n",
       "      <td>31308</td>\n",
       "      <td>Midwest</td>\n",
       "      <td>Middle-Aged Adult</td>\n",
       "      <td>Low-Income</td>\n",
       "    </tr>\n",
       "  </tbody>\n",
       "</table>\n",
       "<p>5 rows × 25 columns</p>\n",
       "</div>"
      ],
      "text/plain": [
       "   product_id  department_id  prices  user_id  order_number  \\\n",
       "0           1             19     5.8      138            28   \n",
       "1           1             19     5.8      138            30   \n",
       "2           1             19     5.8      709             2   \n",
       "3           1             19     5.8      764             1   \n",
       "4           1             19     5.8      764             3   \n",
       "\n",
       "   order_day_of_week  order_hour_of_day  days_since_last_order  reordered  \\\n",
       "0                  6                 11                    3.0          0   \n",
       "1                  6                 17                   20.0          1   \n",
       "2                  0                 21                    6.0          0   \n",
       "3                  3                 13                    NaN          0   \n",
       "4                  4                 17                    9.0          1   \n",
       "\n",
       "         price_range  ...          freq_flag  Gender      state age  \\\n",
       "0  mid-range product  ...  frequent customer    Male  Minnesota  81   \n",
       "1  mid-range product  ...  frequent customer    Male  Minnesota  81   \n",
       "2  mid-range product  ...  frequent customer  Female    Vermont  66   \n",
       "3  mid-range product  ...  frequent customer  Female  Wisconsin  40   \n",
       "4  mid-range product  ...  frequent customer  Female  Wisconsin  40   \n",
       "\n",
       "  num_dependents fam_status  income     Region          age_group  \\\n",
       "0              1    married   49620    Midwest        Older Adult   \n",
       "1              1    married   49620    Midwest        Older Adult   \n",
       "2              2    married  158302  Northeast        Older Adult   \n",
       "3              3    married   31308    Midwest  Middle-Aged Adult   \n",
       "4              3    married   31308    Midwest  Middle-Aged Adult   \n",
       "\n",
       "    income_group  \n",
       "0     Low-Income  \n",
       "1     Low-Income  \n",
       "2  Middle-Income  \n",
       "3     Low-Income  \n",
       "4     Low-Income  \n",
       "\n",
       "[5 rows x 25 columns]"
      ]
     },
     "execution_count": 41,
     "metadata": {},
     "output_type": "execute_result"
    }
   ],
   "source": [
    "df_all_top.head()"
   ]
  },
  {
   "cell_type": "code",
   "execution_count": 45,
   "id": "f80cd195-bf73-4cae-bb7b-71234e719890",
   "metadata": {},
   "outputs": [],
   "source": [
    "df_all_top = df_all_top.drop(['age', 'income'], axis=1)"
   ]
  },
  {
   "cell_type": "code",
   "execution_count": null,
   "id": "583774d7-fd45-4458-8754-f8f89a56f155",
   "metadata": {},
   "outputs": [],
   "source": [
    "df_all_top['dependent_status'] = df_all_top.apply(get_dependent_status, axis=1)"
   ]
  },
  {
   "cell_type": "code",
   "execution_count": null,
   "id": "aa8bffbb-5362-41cc-aae3-bdfc53dd97f6",
   "metadata": {},
   "outputs": [],
   "source": [
    "# Combine the columns to create the final profile columns\n",
    "df_all_top['income_profile'] = df_all_top['income_group'] + ' ' + df_all_top['age_group']\n",
    "df_all_top['dependent_profile'] = df_all_top['age_group'] + ', ' + df_all_top['dependent_status']"
   ]
  },
  {
   "cell_type": "code",
   "execution_count": null,
   "id": "69f2d8e1-93ee-4a76-b7cb-ddb3d6bee484",
   "metadata": {},
   "outputs": [],
   "source": [
    "pd.set_option('display.max_columns', None)"
   ]
  },
  {
   "cell_type": "code",
   "execution_count": null,
   "id": "cc5c15da-b883-449c-a6a9-14fdf340bd43",
   "metadata": {},
   "outputs": [],
   "source": [
    "df_all_top.head()"
   ]
  }
 ],
 "metadata": {
  "kernelspec": {
   "display_name": "Python 3 (ipykernel)",
   "language": "python",
   "name": "python3"
  },
  "language_info": {
   "codemirror_mode": {
    "name": "ipython",
    "version": 3
   },
   "file_extension": ".py",
   "mimetype": "text/x-python",
   "name": "python",
   "nbconvert_exporter": "python",
   "pygments_lexer": "ipython3",
   "version": "3.12.4"
  }
 },
 "nbformat": 4,
 "nbformat_minor": 5
}
