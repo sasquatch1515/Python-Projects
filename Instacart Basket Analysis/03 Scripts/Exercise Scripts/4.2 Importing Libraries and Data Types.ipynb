{
 "cells": [
  {
   "cell_type": "markdown",
   "id": "807f7c86-6c67-4326-b709-ec0bb97ac160",
   "metadata": {},
   "source": [
    "#01: Importing Libraries"
   ]
  },
  {
   "cell_type": "code",
   "execution_count": 2,
   "id": "becdc5ac-9df9-4b49-b7fd-aae3e2ead02f",
   "metadata": {},
   "outputs": [],
   "source": [
    "# Importing libraries\n",
    "import pandas as pd\n",
    "import numpy as np\n",
    "import os"
   ]
  },
  {
   "cell_type": "markdown",
   "id": "b64334b1-68d1-4859-826c-cc17ea2aa65c",
   "metadata": {},
   "source": [
    "#02: Python Data Types"
   ]
  },
  {
   "cell_type": "code",
   "execution_count": 56,
   "id": "2f9672a9-3aaf-43c4-afcc-acd2e58e9fa9",
   "metadata": {},
   "outputs": [],
   "source": [
    "n=10"
   ]
  },
  {
   "cell_type": "code",
   "execution_count": 60,
   "id": "f5549a3d-94fb-4e42-989f-95d3647baa01",
   "metadata": {},
   "outputs": [
    {
     "name": "stdout",
     "output_type": "stream",
     "text": [
      "100\n"
     ]
    }
   ],
   "source": [
    "print(10**2)"
   ]
  },
  {
   "cell_type": "code",
   "execution_count": 62,
   "id": "4c95bb43-3fe8-4a22-9118-1804f0071ecc",
   "metadata": {},
   "outputs": [
    {
     "name": "stdout",
     "output_type": "stream",
     "text": [
      "100\n"
     ]
    }
   ],
   "source": [
    "print(n*10)"
   ]
  },
  {
   "cell_type": "code",
   "execution_count": 64,
   "id": "25c330e5-d87e-483e-b0c7-57788fe5c244",
   "metadata": {},
   "outputs": [
    {
     "name": "stdout",
     "output_type": "stream",
     "text": [
      "100\n"
     ]
    }
   ],
   "source": [
    "print(n+n+n+n+n+n+n+n+n+n)"
   ]
  },
  {
   "cell_type": "code",
   "execution_count": 66,
   "id": "865efef2-f500-4143-a50b-e72fe550dd6a",
   "metadata": {},
   "outputs": [],
   "source": [
    "a=4.27\n",
    "b=.0234"
   ]
  },
  {
   "cell_type": "code",
   "execution_count": 68,
   "id": "1d52ae4c-0672-4b3d-8076-b12ca6df270d",
   "metadata": {},
   "outputs": [
    {
     "name": "stdout",
     "output_type": "stream",
     "text": [
      "182.47863247863245\n"
     ]
    }
   ],
   "source": [
    "print(a/b)"
   ]
  },
  {
   "cell_type": "code",
   "execution_count": 76,
   "id": "82865500-a0cd-4c3c-925f-b6ab93e9e69f",
   "metadata": {},
   "outputs": [],
   "source": [
    "w=\"con\"\n",
    "x=\"cat\"\n",
    "y=\"en\"\n",
    "z=\"ate\""
   ]
  },
  {
   "cell_type": "code",
   "execution_count": 78,
   "id": "b9dad2cc-2109-4c49-ad99-00cb42bb261c",
   "metadata": {},
   "outputs": [
    {
     "data": {
      "text/plain": [
       "'concatenate'"
      ]
     },
     "execution_count": 78,
     "metadata": {},
     "output_type": "execute_result"
    }
   ],
   "source": [
    "(w + x + y + z)"
   ]
  },
  {
   "cell_type": "code",
   "execution_count": 98,
   "id": "38f3c872-7cc3-40e4-b4f1-75a5de4e89dd",
   "metadata": {},
   "outputs": [],
   "source": [
    "a=\"bats \"\n",
    "b=\"can \"\n",
    "c=\"fly\"\n",
    "d=\"how \"\n",
    "e=\"do \"\n",
    "q=\"?\"\n",
    "p=\".\""
   ]
  },
  {
   "cell_type": "code",
   "execution_count": 102,
   "id": "c84d560e-4542-47f6-a07c-ef4888ac5022",
   "metadata": {},
   "outputs": [
    {
     "name": "stdout",
     "output_type": "stream",
     "text": [
      "bats can fly.\n",
      "how do bats fly?\n"
     ]
    }
   ],
   "source": [
    "print(a + b + c + p)\n",
    "print (d+e+a+c+f)"
   ]
  }
 ],
 "metadata": {
  "kernelspec": {
   "display_name": "Python 3 (ipykernel)",
   "language": "python",
   "name": "python3"
  },
  "language_info": {
   "codemirror_mode": {
    "name": "ipython",
    "version": 3
   },
   "file_extension": ".py",
   "mimetype": "text/x-python",
   "name": "python",
   "nbconvert_exporter": "python",
   "pygments_lexer": "ipython3",
   "version": "3.12.4"
  }
 },
 "nbformat": 4,
 "nbformat_minor": 5
}
